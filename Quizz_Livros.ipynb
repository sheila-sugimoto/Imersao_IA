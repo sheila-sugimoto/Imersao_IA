{
  "nbformat": 4,
  "nbformat_minor": 0,
  "metadata": {
    "colab": {
      "provenance": [],
      "authorship_tag": "ABX9TyPSEt65Pb97ucRmL+54bBAN",
      "include_colab_link": true
    },
    "kernelspec": {
      "name": "python3",
      "display_name": "Python 3"
    },
    "language_info": {
      "name": "python"
    }
  },
  "cells": [
    {
      "cell_type": "markdown",
      "metadata": {
        "id": "view-in-github",
        "colab_type": "text"
      },
      "source": [
        "<a href=\"https://colab.research.google.com/github/sheila-sugimoto/Imersao_IA/blob/main/Quizz_Livros.ipynb\" target=\"_parent\"><img src=\"https://colab.research.google.com/assets/colab-badge.svg\" alt=\"Open In Colab\"/></a>"
      ]
    },
    {
      "cell_type": "code",
      "execution_count": 1,
      "metadata": {
        "id": "yke0hpo4bzWJ"
      },
      "outputs": [],
      "source": [
        "#Instalando o SDK do Google\n",
        "!pip install -q -U google-generativeai"
      ]
    },
    {
      "cell_type": "code",
      "source": [
        "#Configurações iniciais\n",
        "\n",
        "import google.generativeai as genai\n",
        "import requests\n",
        "from IPython.display import Markdown\n",
        "from google.colab import userdata\n",
        "\n",
        "API_KEY = userdata.get('API_KEY')\n",
        "genai.configure(api_key=API_KEY)\n",
        "\n",
        "generation_config = {\n",
        "  \"temperature\": 1,\n",
        "  \"top_p\": 0.95,\n",
        "  \"top_k\": 0,\n",
        "  \"max_output_tokens\": 10000,\n",
        "}\n",
        "\n",
        "safety_settings = [\n",
        "  {\n",
        "    \"category\": \"HARM_CATEGORY_HARASSMENT\",\n",
        "    \"threshold\": \"BLOCK_LOW_AND_ABOVE\"\n",
        "  },\n",
        "  {\n",
        "    \"category\": \"HARM_CATEGORY_HATE_SPEECH\",\n",
        "    \"threshold\": \"BLOCK_LOW_AND_ABOVE\"\n",
        "  },\n",
        "  {\n",
        "    \"category\": \"HARM_CATEGORY_SEXUALLY_EXPLICIT\",\n",
        "    \"threshold\": \"BLOCK_LOW_AND_ABOVE\"\n",
        "  },\n",
        "  {\n",
        "    \"category\": \"HARM_CATEGORY_DANGEROUS_CONTENT\",\n",
        "    \"threshold\": \"BLOCK_LOW_AND_ABOVE\"\n",
        "  },\n",
        "]\n",
        "\n",
        "system_instruction = 'Aja como se fosse o usuário do jogo'\n",
        "\n",
        "gemini = genai.GenerativeModel(model_name=\"gemini-1.5-pro-latest\",\n",
        "                              generation_config=generation_config,\n",
        "                              system_instruction=system_instruction,\n",
        "                              safety_settings=safety_settings)"
      ],
      "metadata": {
        "id": "_0hrYCjScEVG"
      },
      "execution_count": 16,
      "outputs": []
    },
    {
      "cell_type": "code",
      "source": [
        "#Inicialização da variável chat que contém o prompt para criação do quizz\n",
        "chat = gemini.start_chat(history=[{'role': 'user',\n",
        "  'parts': 'Crie um jogo com 3 perguntas e respostas de múltipla escolha baseado na história de um livro que o usuário tenha lido para ajudar crianças a formar o hábito da leitura. Caso o livro não exista, informe que ainda não conhece o livro e sugira outro livro informando o nome do autor para que a criança leia. Se o livro existir, apresente as perguntas uma de cada vez. Se a criança errar a resposta, indique qual era a resposta correta. Apresente a pontuação somente no final e sugira outro livro informando o nome do autor para que a criança leia.'},\n",
        " {'role': 'model', 'parts': '\\u200b'},])"
      ],
      "metadata": {
        "id": "lfPB3hezdBie"
      },
      "execution_count": 17,
      "outputs": []
    },
    {
      "cell_type": "code",
      "source": [
        "#Recebimento da entrada do nome do livro pelo usuário e envio da primeira pergunta\n",
        "print(f'Legal! Adoro jogos! Qual livro você leu? Me fale o nome dele que eu te faço algumas perguntas! 😄 📚 �')\n",
        "livro = input('Nome do livro: ')\n",
        "response = chat.send_message(livro)\n",
        "display(Markdown(response.text))\n",
        "n = 0\n",
        "\n",
        "#Recebimento da resposta do usuário e apresentação das perguntas restantes e do resultado final\n",
        "while n < 3:\n",
        "  user_input = input(f'Resposta: ')\n",
        "  response = chat.send_message(user_input)\n",
        "  display(Markdown(response.text))\n",
        "  n = n+1"
      ],
      "metadata": {
        "colab": {
          "base_uri": "https://localhost:8080/"
        },
        "id": "q0I3E08VeSVx",
        "outputId": "20d54374-15f9-47d6-8029-6495de97c250"
      },
      "execution_count": null,
      "outputs": [
        {
          "output_type": "stream",
          "name": "stdout",
          "text": [
            "Legal! Adoro jogos! Qual livro você leu? Me fale o nome dele que eu te faço algumas perguntas! 😄 📚 �\n"
          ]
        }
      ]
    },
    {
      "cell_type": "code",
      "source": [],
      "metadata": {
        "id": "XA_hC4kYeTfe"
      },
      "execution_count": null,
      "outputs": []
    }
  ]
}